{
 "cells": [
  {
   "cell_type": "code",
   "execution_count": 4,
   "id": "22f77659-834d-446b-ae63-b2158246b40f",
   "metadata": {
    "scrolled": true
   },
   "outputs": [
    {
     "name": "stdout",
     "output_type": "stream",
     "text": [
      "WARNING:tensorflow:From C:\\Python312\\Lib\\site-packages\\tf_keras\\src\\losses.py:2976: The name tf.losses.sparse_softmax_cross_entropy is deprecated. Please use tf.compat.v1.losses.sparse_softmax_cross_entropy instead.\n",
      "\n",
      "24-07-04 20:12:50 - Directory C:\\Users\\ZBOOK PRO/.deepface created\n",
      "24-07-04 20:12:50 - Directory C:\\Users\\ZBOOK PRO/.deepface/weights created\n"
     ]
    }
   ],
   "source": [
    "import cv2\n",
    "from mtcnn.mtcnn import MTCNN\n",
    "from deepface import DeepFace"
   ]
  },
  {
   "cell_type": "code",
   "execution_count": 5,
   "id": "1d5d41db-2984-4e93-9eec-e887f108f9d9",
   "metadata": {},
   "outputs": [
    {
     "ename": "NameError",
     "evalue": "name 'detector' is not defined",
     "output_type": "error",
     "traceback": [
      "\u001b[1;31m---------------------------------------------------------------------------\u001b[0m",
      "\u001b[1;31mNameError\u001b[0m                                 Traceback (most recent call last)",
      "Cell \u001b[1;32mIn[5], line 17\u001b[0m\n\u001b[0;32m     14\u001b[0m     \u001b[38;5;28;01mbreak\u001b[39;00m\n\u001b[0;32m     16\u001b[0m \u001b[38;5;66;03m# Detect faces in the frame\u001b[39;00m\n\u001b[1;32m---> 17\u001b[0m results \u001b[38;5;241m=\u001b[39m \u001b[43mdetector\u001b[49m\u001b[38;5;241m.\u001b[39mdetect_faces(frame)\n\u001b[0;32m     19\u001b[0m \u001b[38;5;66;03m# Draw bounding boxes, keypoints, and emotions\u001b[39;00m\n\u001b[0;32m     20\u001b[0m \u001b[38;5;28;01mfor\u001b[39;00m result \u001b[38;5;129;01min\u001b[39;00m results:\n\u001b[0;32m     21\u001b[0m     \u001b[38;5;66;03m# Draw bounding box\u001b[39;00m\n",
      "\u001b[1;31mNameError\u001b[0m: name 'detector' is not defined"
     ]
    }
   ],
   "source": [
    "# Capture video from the webcam\n",
    "cap = cv2.VideoCapture(0)\n",
    "\n",
    "if not cap.isOpened():\n",
    "    print(\"Error: Could not open webcam.\")\n",
    "    exit()\n",
    "\n",
    "while True:\n",
    "    # Read a frame from the webcam\n",
    "    ret, frame = cap.read()\n",
    "\n",
    "    if not ret:\n",
    "        print(\"Error: Could not read frame.\")\n",
    "        break\n",
    "\n",
    "    # Detect faces in the frame\n",
    "    results = detector.detect_faces(frame)\n",
    "\n",
    "    # Draw bounding boxes, keypoints, and emotions\n",
    "    for result in results:\n",
    "        # Draw bounding box\n",
    "        x, y, width, height = result['box']\n",
    "        x2, y2 = x + width, y + height\n",
    "        cv2.rectangle(frame, (x, y), (x2, y2), (0, 0, 255), 2)\n",
    "        \n",
    "        # Draw keypoints\n",
    "        keypoints = result['keypoints']\n",
    "        for point in keypoints.values():\n",
    "            cv2.circle(frame, point, 2, (0, 255, 0), 2)\n",
    "\n",
    "        # Extract face region\n",
    "        face = frame[y:y+height, x:x+width]\n",
    "        \n",
    "        # Analyze emotions using DeepFace\n",
    "        try:\n",
    "            analysis = DeepFace.analyze(face, actions=['emotion'], enforce_detection=False)\n",
    "            emotion = analysis['dominant_emotion']\n",
    "\n",
    "            # Display emotion on the frame\n",
    "            cv2.putText(frame, emotion, (x, y - 10), cv2.FONT_HERSHEY_SIMPLEX, 0.9, (255, 255, 255), 2, cv2.LINE_AA)\n",
    "        except Exception as e:\n",
    "            print(\"Error analyzing face:\", e)\n",
    "\n",
    "    # Display the frame with detected faces and keypoints\n",
    "    cv2.imshow('Face and Emotion Detection', frame)\n",
    "\n",
    "    # Break the loop if 'q' key is pressed\n",
    "    if cv2.waitKey(1) & 0xFF == ord('q'):\n",
    "        break\n",
    "\n",
    "# Release the webcam and close all windows\n",
    "cap.release()\n",
    "cv2.destroyAllWindows()"
   ]
  }
 ],
 "metadata": {
  "kernelspec": {
   "display_name": "Python 3 (ipykernel)",
   "language": "python",
   "name": "python3"
  },
  "language_info": {
   "codemirror_mode": {
    "name": "ipython",
    "version": 3
   },
   "file_extension": ".py",
   "mimetype": "text/x-python",
   "name": "python",
   "nbconvert_exporter": "python",
   "pygments_lexer": "ipython3",
   "version": "3.12.2"
  }
 },
 "nbformat": 4,
 "nbformat_minor": 5
}
